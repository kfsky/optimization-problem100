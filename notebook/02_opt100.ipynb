{
 "cells": [
  {
   "cell_type": "code",
   "execution_count": 5,
   "outputs": [],
   "source": [
    "#mypulpは混合整数問題をモデル化するためのモジュール pulp を商用パッケージGurobiと同じ文法で記述するためのラッパーモジュール\n",
    "import pandas as pd\n",
    "import numpy as np\n",
    "import os\n",
    "import intvalpy\n",
    "from mypulp import Model, quicksum, GRB, multidict"
   ],
   "metadata": {
    "collapsed": false
   }
  },
  {
   "cell_type": "markdown",
   "source": [
    "## 線形最適化問題\n",
    "線形最適化問題の一般系は以下のように記載できる\n",
    "\n",
    "$$\n",
    "mininize : c^Tx \\\\\n",
    "s.t. : Ax\\leqq b\n",
    "$$"
   ],
   "metadata": {
    "collapsed": false
   }
  },
  {
   "cell_type": "code",
   "execution_count": 6,
   "outputs": [
    {
     "name": "stdout",
     "output_type": "stream",
     "text": [
      "Welcome to the CBC MILP Solver \n",
      "Version: 2.10.3 \n",
      "Build Date: Dec 15 2019 \n",
      "\n",
      "command line - /home/penguin/.conda/lib/python3.10/site-packages/pulp/solverdir/cbc/linux/64/cbc /tmp/8d5425eb8219434095b19c53b45d2063-pulp.mps max timeMode elapsed branch printingOptions all solution /tmp/8d5425eb8219434095b19c53b45d2063-pulp.sol (default strategy 1)\n",
      "At line 2 NAME          MODEL\n",
      "At line 3 ROWS\n",
      "At line 7 COLUMNS\n",
      "At line 14 RHS\n",
      "At line 17 BOUNDS\n",
      "At line 20 ENDATA\n",
      "Problem MODEL has 2 rows, 2 columns and 4 elements\n",
      "Coin0008I MODEL read with 0 errors\n",
      "Option for timeMode changed from cpu to elapsed\n",
      "Presolve 2 (0) rows, 2 (0) columns and 4 (0) elements\n",
      "0  Obj -0 Dual inf 33 (2)\n",
      "0  Obj -0 Dual inf 33 (2)\n",
      "2  Obj 660\n",
      "Optimal - objective value 660\n",
      "Optimal objective 660 - 2 iterations time 0.002\n",
      "Option for printingOptions changed from normal to all\n",
      "Total time (CPU seconds):       0.00   (Wallclock seconds):       0.00\n",
      "\n",
      "Opt. Value= 660.0\n",
      "x1 20.0\n",
      "x2 20.0\n"
     ]
    }
   ],
   "source": [
    "model = Model(\"lol\") # モデル名を設定している。ここはなんでも良い\n",
    "\n",
    "x1 = model.addVar(name=\"x1\") # 変数を設定する\n",
    "x2 = model.addVar(name=\"x2\") # 変数を設定する\n",
    "\n",
    "model.update() #gurobiでは必要だが、pulpでは不要\n",
    "\n",
    "model.addConstr(2 * x1 + x2 <= 60) # 制約条件を設定する\n",
    "model.addConstr(x1 + 2 * x2 <= 60) # 制約条件を設定する\n",
    "model.setObjective(15 * x1 + 18 * x2, GRB.MAXIMIZE) #\n",
    "\n",
    "model.optimize()\n",
    "\n",
    "if model.Status == GRB.Status.OPTIMAL:\n",
    "    print(\"Opt. Value=\", model.ObjVal)\n",
    "    for v in model.getVars():\n",
    "        print(v.VarName, v.X)"
   ],
   "metadata": {
    "collapsed": false
   }
  },
  {
   "cell_type": "code",
   "execution_count": 8,
   "outputs": [
    {
     "data": {
      "text/plain": "array([[20., 20.],\n       [30.,  0.],\n       [ 0.,  0.],\n       [ 0., 30.]])"
     },
     "execution_count": 8,
     "metadata": {},
     "output_type": "execute_result"
    },
    {
     "data": {
      "text/plain": "<Figure size 750x750 with 1 Axes>",
      "image/png": "[encoded data removed]"
     },
     "metadata": {},
     "output_type": "display_data"
    }
   ],
   "source": [
    "A = np.array([[-2, -1],\n",
    "              [-1, -2],\n",
    "              [1, 0],\n",
    "              [0,1]])\n",
    "b = np.array([-60, -60, 0, 0])\n",
    "intvalpy.lineqs(A, b, title=\"Feasible Region\", color=\"gray\", alpha=.5, s=10, size=(5,5), save=False, show=True)"
   ],
   "metadata": {
    "collapsed": false
   }
  },
  {
   "cell_type": "code",
   "execution_count": 15,
   "outputs": [
    {
     "ename": "TypeError",
     "evalue": "unsupported operand type(s) for ** or pow(): 'Variable' and 'int'",
     "output_type": "error",
     "traceback": [
      "\u001B[0;31m---------------------------------------------------------------------------\u001B[0m",
      "\u001B[0;31mTypeError\u001B[0m                                 Traceback (most recent call last)",
      "Cell \u001B[0;32mIn[15], line 8\u001B[0m\n\u001B[1;32m      4\u001B[0m z \u001B[38;5;241m=\u001B[39m model\u001B[38;5;241m.\u001B[39maddVar(name\u001B[38;5;241m=\u001B[39m\u001B[38;5;124m\"\u001B[39m\u001B[38;5;124mz\u001B[39m\u001B[38;5;124m\"\u001B[39m)\n\u001B[1;32m      6\u001B[0m \u001B[38;5;66;03m# model.update()\u001B[39;00m\n\u001B[0;32m----> 8\u001B[0m model\u001B[38;5;241m.\u001B[39maddConstr(\u001B[43mx\u001B[49m\u001B[38;5;241;43m*\u001B[39;49m\u001B[38;5;241;43m*\u001B[39;49m\u001B[38;5;241;43m2\u001B[39;49m\u001B[38;5;241m+\u001B[39my\u001B[38;5;241m*\u001B[39m\u001B[38;5;241m*\u001B[39m\u001B[38;5;241m2\u001B[39m \u001B[38;5;241m<\u001B[39m\u001B[38;5;241m=\u001B[39m z\u001B[38;5;241m*\u001B[39m\u001B[38;5;241m*\u001B[39m\u001B[38;5;241m2\u001B[39m)\n\u001B[1;32m      9\u001B[0m model\u001B[38;5;241m.\u001B[39maddConstr(\u001B[38;5;241m2\u001B[39m\u001B[38;5;241m*\u001B[39mx\u001B[38;5;241m+\u001B[39m\u001B[38;5;241m3\u001B[39m\u001B[38;5;241m*\u001B[39my\u001B[38;5;241m+\u001B[39m\u001B[38;5;241m4\u001B[39m\u001B[38;5;241m*\u001B[39mz \u001B[38;5;241m<\u001B[39m\u001B[38;5;241m=\u001B[39m \u001B[38;5;241m10\u001B[39m)\n\u001B[1;32m     11\u001B[0m model\u001B[38;5;241m.\u001B[39msetObjective(\u001B[38;5;241m2\u001B[39m\u001B[38;5;241m*\u001B[39mx \u001B[38;5;241m+\u001B[39m \u001B[38;5;241m2\u001B[39m\u001B[38;5;241m*\u001B[39my \u001B[38;5;241m+\u001B[39mz, GRB\u001B[38;5;241m.\u001B[39mMAXIMIZE)\n",
      "\u001B[0;31mTypeError\u001B[0m: unsupported operand type(s) for ** or pow(): 'Variable' and 'int'"
     ]
    }
   ],
   "source": [
    "# mypulp は線形最適化にのみ対応しているので、この2次推最適化問題は解けない\n",
    "model = Model()\n",
    "x = model.addVar(name=\"x\")\n",
    "y = model.addVar(name=\"y\")\n",
    "z = model.addVar(name=\"z\")\n",
    "\n",
    "# model.update()\n",
    "\n",
    "model.addConstr(x**2+y**2 <= z**2)\n",
    "model.addConstr(2*x+3*y+4*z <= 10)\n",
    "\n",
    "model.setObjective(2*x + 2*y +z, GRB.MAXIMIZE)\n",
    "\n",
    "model.optimize()\n",
    "\n",
    "if model.Status == GRB.Status.OPTIMAL:\n",
    "    print(\"Opt. Val.=\", model.ObjVal)\n",
    "    print(\"(x,y,z)=\",(x.X, y.X, z.X))"
   ],
   "metadata": {
    "collapsed": false,
    "pycharm": {
     "name": "#%%ｆ\n"
    }
   }
  },
  {
   "cell_type": "code",
   "execution_count": 16,
   "outputs": [
    {
     "name": "stdout",
     "output_type": "stream",
     "text": [
      "Welcome to the CBC MILP Solver \n",
      "Version: 2.10.3 \n",
      "Build Date: Dec 15 2019 \n",
      "\n",
      "command line - /home/penguin/.conda/lib/python3.10/site-packages/pulp/solverdir/cbc/linux/64/cbc /tmp/61543b4e5b90466a93176822fc96b754-pulp.mps timeMode elapsed branch printingOptions all solution /tmp/61543b4e5b90466a93176822fc96b754-pulp.sol (default strategy 1)\n",
      "At line 2 NAME          MODEL\n",
      "At line 3 ROWS\n",
      "At line 7 COLUMNS\n",
      "At line 22 RHS\n",
      "At line 25 BOUNDS\n",
      "At line 29 ENDATA\n",
      "Problem MODEL has 2 rows, 3 columns and 6 elements\n",
      "Coin0008I MODEL read with 0 errors\n",
      "Option for timeMode changed from cpu to elapsed\n",
      "Continuous objective value is 2.66667 - 0.00 seconds\n",
      "Cgl0003I 0 fixed, 2 tightened bounds, 0 strengthened rows, 0 substitutions\n",
      "Cgl0003I 0 fixed, 4 tightened bounds, 0 strengthened rows, 0 substitutions\n",
      "Cgl0003I 0 fixed, 1 tightened bounds, 0 strengthened rows, 0 substitutions\n",
      "Cgl0004I processed model has 2 rows, 3 columns (3 integer (0 of which binary)) and 6 elements\n",
      "Cutoff increment increased from 1e-05 to 0.9999\n",
      "Cbc0012I Integer solution of 4 found by DiveCoefficient after 0 iterations and 0 nodes (0.00 seconds)\n",
      "Cbc0006I The LP relaxation is infeasible or too expensive\n",
      "Cbc0013I At root node, 0 cuts changed objective from 2.6666667 to 2.6666667 in 1 passes\n",
      "Cbc0014I Cut generator 0 (Probing) - 1 row cuts average 0.0 elements, 1 column cuts (1 active)  in 0.000 seconds - new frequency is 1\n",
      "Cbc0014I Cut generator 1 (Gomory) - 0 row cuts average 0.0 elements, 0 column cuts (0 active)  in 0.000 seconds - new frequency is -100\n",
      "Cbc0014I Cut generator 2 (Knapsack) - 0 row cuts average 0.0 elements, 0 column cuts (0 active)  in 0.000 seconds - new frequency is -100\n",
      "Cbc0014I Cut generator 3 (Clique) - 0 row cuts average 0.0 elements, 0 column cuts (0 active)  in 0.000 seconds - new frequency is -100\n",
      "Cbc0014I Cut generator 4 (MixedIntegerRounding2) - 0 row cuts average 0.0 elements, 0 column cuts (0 active)  in 0.000 seconds - new frequency is -100\n",
      "Cbc0014I Cut generator 5 (FlowCover) - 0 row cuts average 0.0 elements, 0 column cuts (0 active)  in 0.000 seconds - new frequency is -100\n",
      "Cbc0014I Cut generator 6 (TwoMirCuts) - 0 row cuts average 0.0 elements, 0 column cuts (0 active)  in 0.000 seconds - new frequency is -100\n",
      "Cbc0014I Cut generator 7 (ZeroHalf) - 0 row cuts average 0.0 elements, 0 column cuts (0 active)  in 0.000 seconds - new frequency is -100\n",
      "Cbc0001I Search completed - best objective 4, took 0 iterations and 0 nodes (0.00 seconds)\n",
      "Cbc0035I Maximum depth 0, 0 variables fixed on reduced cost\n",
      "Cuts at root node changed objective from 2.66667 to 2.66667\n",
      "Probing was tried 1 times and created 2 cuts of which 0 were active after adding rounds of cuts (0.000 seconds)\n",
      "Gomory was tried 0 times and created 0 cuts of which 0 were active after adding rounds of cuts (0.000 seconds)\n",
      "Knapsack was tried 0 times and created 0 cuts of which 0 were active after adding rounds of cuts (0.000 seconds)\n",
      "Clique was tried 0 times and created 0 cuts of which 0 were active after adding rounds of cuts (0.000 seconds)\n",
      "MixedIntegerRounding2 was tried 0 times and created 0 cuts of which 0 were active after adding rounds of cuts (0.000 seconds)\n",
      "FlowCover was tried 0 times and created 0 cuts of which 0 were active after adding rounds of cuts (0.000 seconds)\n",
      "TwoMirCuts was tried 0 times and created 0 cuts of which 0 were active after adding rounds of cuts (0.000 seconds)\n",
      "ZeroHalf was tried 0 times and created 0 cuts of which 0 were active after adding rounds of cuts (0.000 seconds)\n",
      "\n",
      "Result - Optimal solution found\n",
      "\n",
      "Objective value:                4.00000000\n",
      "Enumerated nodes:               0\n",
      "Total iterations:               0\n",
      "Time (CPU seconds):             0.00\n",
      "Time (Wallclock seconds):       0.01\n",
      "\n",
      "Option for printingOptions changed from normal to all\n",
      "Total time (CPU seconds):       0.00   (Wallclock seconds):       0.01\n",
      "\n",
      "Opt. Val.= 4.0\n",
      "(x,y,z)= (28.0, 2.0, 2.0)\n"
     ]
    }
   ],
   "source": [
    "## 整数最適化問題\n",
    "model = Model()\n",
    "x = model.addVar(vtype=\"I\", name=\"x\")\n",
    "y = model.addVar(vtype=\"I\", name=\"y\")\n",
    "z = model.addVar(vtype=\"I\", name=\"z\")\n",
    "\n",
    "model.addConstr(x+y+z==32)\n",
    "model.addConstr(2*x+4*y+8*z==80)\n",
    "\n",
    "model.setObjective(y+z, GRB.MINIMIZE)\n",
    "\n",
    "model.optimize()\n",
    "\n",
    "if model.Status == GRB.Status.OPTIMAL:\n",
    "    print(\"Opt. Val.=\", model.ObjVal)\n",
    "    print(\"(x,y,z)=\",(x.X, y.X, z.X))"
   ],
   "metadata": {
    "collapsed": false
   }
  },
  {
   "cell_type": "markdown",
   "source": [
    "## 実行不可能と非有界\n",
    "一般的に最適化問題は常に最適解を持つとは限らない。特に現実的な問題を取り扱う場合には、制約条件が厳しすぎて解が存在しない場合もある。\n",
    "\n",
    "また、目的関数が無限に良くなってしまう場合を非有界と呼ぶ。\n",
    "\n",
    "実行不可能の場合、"
   ],
   "metadata": {
    "collapsed": false
   }
  },
  {
   "cell_type": "code",
   "execution_count": 18,
   "outputs": [
    {
     "data": {
      "text/plain": "<Figure size 600x600 with 1 Axes>",
      "image/png": "[encoded data removed]"
     },
     "metadata": {},
     "output_type": "display_data"
    }
   ],
   "source": [
    "A = np.array([[1, -1],\n",
    "              [-1, 1],\n",
    "              [1, 0],\n",
    "              [0, 1]])\n",
    "b = np.array([-1, -1, 0, 0])\n",
    "\n",
    "intvalpy.lineqs(A, b, title='Feasible Region', color='gray', alpha=0.5, s=10, size=(4,4), save=False, show=True);"
   ],
   "metadata": {
    "collapsed": false
   }
  },
  {
   "cell_type": "code",
   "execution_count": 20,
   "outputs": [
    {
     "name": "stdout",
     "output_type": "stream",
     "text": [
      "Welcome to the CBC MILP Solver \n",
      "Version: 2.10.3 \n",
      "Build Date: Dec 15 2019 \n",
      "\n",
      "command line - /home/penguin/.conda/lib/python3.10/site-packages/pulp/solverdir/cbc/linux/64/cbc /tmp/fabf5b645393463298b6e85baae48131-pulp.mps max timeMode elapsed branch printingOptions all solution /tmp/fabf5b645393463298b6e85baae48131-pulp.sol (default strategy 1)\n",
      "At line 2 NAME          MODEL\n",
      "At line 3 ROWS\n",
      "At line 7 COLUMNS\n",
      "At line 14 RHS\n",
      "At line 17 BOUNDS\n",
      "At line 20 ENDATA\n",
      "Problem MODEL has 2 rows, 2 columns and 4 elements\n",
      "Coin0008I MODEL read with 0 errors\n",
      "Option for timeMode changed from cpu to elapsed\n",
      "Presolve thinks problem is infeasible AND unbounded???\n",
      "Analysis indicates model infeasible or unbounded\n",
      "0  Obj -0 Primal inf 1.9999998 (2) Dual inf 1.9999998 (2)\n",
      "1  Obj 2e+10 Primal inf 1.9999999 (1)\n",
      "1  Obj 2e+10 Primal inf 1.9999999 (1)\n",
      "1  Obj 1e+11 Primal inf 1.9999999 (1)\n",
      "1  Obj 5e+11 Primal inf 1.9999999 (1)\n",
      "1  Obj 2.5e+12 Primal inf 1.9999999 (1)\n",
      "1  Obj 1.25e+13 Primal inf 1.9999999 (1)\n",
      "Primal infeasible - objective value 6.25e+13\n",
      "1  Obj 6.25e+13 Primal inf 1.9999999 (1) Dual inf 0.0199999 (1)\n",
      "End of values pass after 1 iterations\n",
      "1  Obj 6.25e+13 Primal inf 1.9999999 (1)\n",
      "End of values pass after 1 iterations\n",
      "1  Obj 6.25e+13 Primal inf 1.9999999 (1)\n",
      "End of values pass after 1 iterations\n",
      "1  Obj 6.25e+13 Primal inf 1.9999999 (1)\n",
      "End of values pass after 1 iterations\n",
      "1  Obj 6.25e+13 Primal inf 1.9999999 (1)\n",
      "Primal infeasible - objective value 6.25e+13\n",
      "PrimalInfeasible objective 6.25e+13 - 1 iterations time 0.002\n",
      "\n",
      "Result - Linear relaxation infeasible\n",
      "\n",
      "Enumerated nodes:           0\n",
      "Total iterations:           0\n",
      "Time (CPU seconds):         0.00\n",
      "Time (Wallclock Seconds):   0.00\n",
      "\n",
      "Option for printingOptions changed from normal to all\n",
      "Total time (CPU seconds):       0.00   (Wallclock seconds):       0.00\n",
      "\n",
      "Status= -1\n"
     ]
    }
   ],
   "source": [
    "model = Model()\n",
    "x ={}\n",
    "for i in range(1,3):\n",
    "    x[i] = model.addVar(vtype=\"C\", name= f\"x({i})\")\n",
    "# model.update()\n",
    "# infeasible\n",
    "model.addConstr(x[1]-x[2]<=-1)\n",
    "model.addConstr(-x[1]+x[2]<=-1)\n",
    "# unbounded\n",
    "# model.addConstr(-x[1]+x[2]>=-1)\n",
    "# model.addConstr(x[1]-x[2]>=-1)\n",
    "model.setObjective(x[1]+x[2], GRB.MAXIMIZE)\n",
    "model.optimize()\n",
    "print(\"Status=\", model.status)"
   ],
   "metadata": {
    "collapsed": false
   }
  },
  {
   "cell_type": "code",
   "execution_count": 21,
   "outputs": [],
   "source": [
    "F, c, n = multidict(\n",
    "    {\n",
    "        \"CQPounder\": [\n",
    "            360,\n",
    "            {\n",
    "                \"Cal\": 556,\n",
    "                \"Carbo\": 39,\n",
    "                \"Protein\": 30,\n",
    "                \"VitA\": 147,\n",
    "                \"VitC\": 10,\n",
    "                \"Calc\": 221,\n",
    "                \"Iron\": 2.4,\n",
    "            },\n",
    "        ],\n",
    "        \"Big M\": [\n",
    "            320,\n",
    "            {\n",
    "                \"Cal\": 556,\n",
    "                \"Carbo\": 46,\n",
    "                \"Protein\": 26,\n",
    "                \"VitA\": 97,\n",
    "                \"VitC\": 9,\n",
    "                \"Calc\": 142,\n",
    "                \"Iron\": 2.4,\n",
    "            },\n",
    "        ],\n",
    "        \"FFilet\": [\n",
    "            270,\n",
    "            {\n",
    "                \"Cal\": 356,\n",
    "                \"Carbo\": 42,\n",
    "                \"Protein\": 14,\n",
    "                \"VitA\": 28,\n",
    "                \"VitC\": 1,\n",
    "                \"Calc\": 76,\n",
    "                \"Iron\": 0.7,\n",
    "            },\n",
    "        ],\n",
    "        \"Chicken\": [\n",
    "            290,\n",
    "            {\n",
    "                \"Cal\": 431,\n",
    "                \"Carbo\": 45,\n",
    "                \"Protein\": 20,\n",
    "                \"VitA\": 9,\n",
    "                \"VitC\": 2,\n",
    "                \"Calc\": 37,\n",
    "                \"Iron\": 0.9,\n",
    "            },\n",
    "        ],\n",
    "        \"Fries\": [\n",
    "            190,\n",
    "            {\n",
    "                \"Cal\": 249,\n",
    "                \"Carbo\": 30,\n",
    "                \"Protein\": 3,\n",
    "                \"VitA\": 0,\n",
    "                \"VitC\": 5,\n",
    "                \"Calc\": 7,\n",
    "                \"Iron\": 0.6,\n",
    "            },\n",
    "        ],\n",
    "        \"Milk\": [\n",
    "            170,\n",
    "            {\n",
    "                \"Cal\": 138,\n",
    "                \"Carbo\": 10,\n",
    "                \"Protein\": 7,\n",
    "                \"VitA\": 80,\n",
    "                \"VitC\": 2,\n",
    "                \"Calc\": 227,\n",
    "                \"Iron\": 0,\n",
    "            },\n",
    "        ],\n",
    "        \"VegJuice\": [\n",
    "            100,\n",
    "            {\n",
    "                \"Cal\": 69,\n",
    "                \"Carbo\": 17,\n",
    "                \"Protein\": 1,\n",
    "                \"VitA\": 750,\n",
    "                \"VitC\": 2,\n",
    "                \"Calc\": 18,\n",
    "                \"Iron\": 0,\n",
    "            },\n",
    "        ],\n",
    "    }\n",
    ")\n",
    "N, a, b = multidict(\n",
    "    {\n",
    "        \"Cal\": [2000, 3000],\n",
    "        \"Carbo\": [300, 375],\n",
    "        \"Protein\": [50, 60],\n",
    "        \"VitA\": [500, 750],\n",
    "        \"VitC\": [85, 100],\n",
    "        \"Calc\": [660, 900],\n",
    "        \"Iron\": [6.0, 7.5],\n",
    "    }\n",
    ")\n"
   ],
   "metadata": {
    "collapsed": false
   }
  },
  {
   "cell_type": "code",
   "execution_count": 22,
   "outputs": [
    {
     "data": {
      "text/plain": "['CQPounder', 'Big M', 'FFilet', 'Chicken', 'Fries', 'Milk', 'VegJuice']"
     },
     "execution_count": 22,
     "metadata": {},
     "output_type": "execute_result"
    }
   ],
   "source": [
    "F"
   ],
   "metadata": {
    "collapsed": false
   }
  },
  {
   "cell_type": "code",
   "execution_count": 23,
   "outputs": [
    {
     "name": "stdout",
     "output_type": "stream",
     "text": [
      "Welcome to the CBC MILP Solver \n",
      "Version: 2.10.3 \n",
      "Build Date: Dec 15 2019 \n",
      "\n",
      "command line - /home/penguin/.conda/lib/python3.10/site-packages/pulp/solverdir/cbc/linux/64/cbc /tmp/dc2f65e75da74189b7e3ac52898b93bb-pulp.mps timeMode elapsed branch printingOptions all solution /tmp/dc2f65e75da74189b7e3ac52898b93bb-pulp.sol (default strategy 1)\n",
      "At line 2 NAME          MODEL\n",
      "At line 3 ROWS\n",
      "At line 19 COLUMNS\n",
      "At line 147 RHS\n",
      "At line 162 BOUNDS\n",
      "At line 184 ENDATA\n",
      "Problem MODEL has 14 rows, 21 columns and 106 elements\n",
      "Coin0008I MODEL read with 0 errors\n",
      "Option for timeMode changed from cpu to elapsed\n",
      "Presolve 14 (0) rows, 21 (0) columns and 106 (0) elements\n",
      "0  Obj 0 Primal inf 26.359683 (7)\n",
      "9  Obj 265119.19\n",
      "Optimal - objective value 265119.19\n",
      "Optimal objective 265119.1876 - 9 iterations time 0.002\n",
      "Option for printingOptions changed from normal to all\n",
      "Total time (CPU seconds):       0.00   (Wallclock seconds):       0.00\n",
      "\n",
      "Opt. Val.= 265119.18554951996\n",
      "VegJuice 0.72910549\n",
      "VegJuice 0.72910549\n",
      "VegJuice 0.72910549\n",
      "VegJuice 0.72910549\n",
      "VegJuice 0.72910549\n",
      "VegJuice 0.72910549\n",
      "VegJuice 0.72910549\n",
      "deficit of VitC = 26.265987\n"
     ]
    },
    {
     "name": "stderr",
     "output_type": "stream",
     "text": [
      "/home/penguin/.conda/lib/python3.10/site-packages/pulp/pulp.py:1352: UserWarning: Spaces are not permitted in the name. Converted to '_'\n",
      "  warnings.warn(\"Spaces are not permitted in the name. Converted to '_'\")\n"
     ]
    }
   ],
   "source": [
    "# 栄養問題を解いてみる\n",
    "# 今回の設定問題は実行不可であるが、制約を許容する形で関数を与えることで解くことができる\n",
    "model = Model(name=\"modern diet\")\n",
    "x,s,d = {}, {}, {}\n",
    "\n",
    "for j in F:\n",
    "    x[j] = model.addVar(vtype=\"C\", name=f\"x({j})\")\n",
    "    for i in N:\n",
    "        s[i] = model.addVar(vtype=\"C\", name=f\"surplus({i})\")\n",
    "        d[i] = model.addVar(vtype=\"C\", name=f\"deficit({i})\")\n",
    "\n",
    "for i in N:\n",
    "    model.addConstr(quicksum(n[j][i] * x[j] for j in F) >= a[i] - d[i], f\"NutrLB({i})\")\n",
    "    model.addConstr(quicksum(n[j][i] * x[j] for j in F) <= b[i] + s[i], f\"NutrUB({i})\")\n",
    "\n",
    "model.setObjective(\n",
    "    quicksum(c[j] * x[j] for j in F) + quicksum(9999 * d[i] + 9999 * s[i] for i in N),\n",
    "    GRB.MINIMIZE\n",
    ")\n",
    "model.optimize()\n",
    "if model.Status == GRB.Status.OPTIMAL:\n",
    "    print(\"Opt. Val.=\", model.ObjVal)\n",
    "    for i in N:\n",
    "        if x[j].X > 0:\n",
    "            print(j, x[j].X)\n",
    "\n",
    "    for i in N:\n",
    "        if d[i].X > 0:\n",
    "            print(f\"deficit of {i} = {d[i].X}\")\n",
    "        if s[i].X > 0:\n",
    "            print(f\"surplus of {i} = {s[i].X}\")"
   ],
   "metadata": {
    "collapsed": false
   }
  },
  {
   "cell_type": "code",
   "execution_count": null,
   "outputs": [],
   "source": [],
   "metadata": {
    "collapsed": false
   }
  }
 ],
 "metadata": {
  "kernelspec": {
   "display_name": "Python 3",
   "language": "python",
   "name": "python3"
  },
  "language_info": {
   "codemirror_mode": {
    "name": "ipython",
    "version": 2
   },
   "file_extension": ".py",
   "mimetype": "text/x-python",
   "name": "python",
   "nbconvert_exporter": "python",
   "pygments_lexer": "ipython2",
   "version": "2.7.6"
  }
 },
 "nbformat": 4,
 "nbformat_minor": 0
}
